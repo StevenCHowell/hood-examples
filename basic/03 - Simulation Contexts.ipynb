{
 "cells": [
  {
   "cell_type": "code",
   "execution_count": 8,
   "metadata": {
    "collapsed": false
   },
   "outputs": [],
   "source": [
    "from hoomd import *\n",
    "from hoomd import md"
   ]
  },
  {
   "cell_type": "markdown",
   "metadata": {},
   "source": [
    "# Simulation Contexts\n",
    "\n",
    "Every hoomd job script **must** have at least one simulation context. The context defines how a simulation is to be executed, and the state of the system including the properties of all particles, forces, integrators, etc... Create a simulation context with [context.initialize](http://hoomd-blue.readthedocs.io/en/stable/module-hoomd-context.html#hoomd.context.initialize)."
   ]
  },
  {
   "cell_type": "code",
   "execution_count": 2,
   "metadata": {
    "collapsed": false
   },
   "outputs": [
    {
     "name": "stdout",
     "output_type": "stream",
     "text": [
      "HOOMD-blue is running on the CPU\n"
     ]
    },
    {
     "data": {
      "text/plain": [
       "<hoomd.context.SimulationContext at 0x7f5b582bb290>"
      ]
     },
     "execution_count": 2,
     "metadata": {},
     "output_type": "execute_result"
    }
   ],
   "source": [
    "context.initialize('--mode=cpu')"
   ]
  },
  {
   "cell_type": "markdown",
   "metadata": {},
   "source": [
    "## Execution context\n",
    "\n",
    "The **first** simulation context created in the simulation also creates the execution context. Once set, the execution context cannot be changed without restarting python. Note how the above context is running on the CPU and how the following context ignores the request to change execution options."
   ]
  },
  {
   "cell_type": "code",
   "execution_count": 3,
   "metadata": {
    "collapsed": false
   },
   "outputs": [
    {
     "data": {
      "text/plain": [
       "<hoomd.context.SimulationContext at 0x7f5b5828bfd0>"
      ]
     },
     "execution_count": 3,
     "metadata": {},
     "output_type": "execute_result"
    }
   ],
   "source": [
    "context.initialize('--mode=gpu')"
   ]
  },
  {
   "cell_type": "markdown",
   "metadata": {},
   "source": [
    "The execution context defines the device the simulation will execute on (i.e. CPU or GPU), how many MPI ranks to run in parallel, GPU device options, etc... Control these parameters with [command line options](http://hoomd-blue.readthedocs.io/en/stable/command-line-options.html). For a script run on the command line, use ``context.initialize()`` and pass the options in from the command line ``python script.py [options]``. In a jupyter notebook, specify the command line options in the string argument to ``context.initialize``. \n",
    "\n",
    "**Try it:** Change the mode option to ``gpu`` in the first ``context.initialize`` command in this notebook, then select the menu option ``Kernel->Restart & Run all`` and see how the status information changes. (Note, this requires a GPU on the system executing these notebooks)."
   ]
  },
  {
   "cell_type": "markdown",
   "metadata": {},
   "source": [
    "## Simulation context\n",
    "\n",
    "Each time you call it, ``context.initialize`` creates a new simulation context and makes it active. You can execute multiple simulation runs in a script by using different contexts. Notice how the 2nd simulation runs at a lower TPS because it has more particles."
   ]
  },
  {
   "cell_type": "code",
   "execution_count": 4,
   "metadata": {
    "collapsed": false
   },
   "outputs": [
    {
     "name": "stdout",
     "output_type": "stream",
     "text": [
      "notice(2): Group \"all\" created containing 125 particles\n",
      "notice(2): integrate.langevin/bd is using specified gamma values\n",
      "notice(2): -- Neighborlist exclusion statistics -- :\n",
      "notice(2): Particles with 0 exclusions             : 125\n",
      "notice(2): Neighbors included by diameter          : no\n",
      "notice(2): Neighbors excluded when in the same body: no\n",
      "** starting run **\n",
      "Time 00:00:02 | Step 20000 / 20000 | TPS 8295.65 | ETA 00:00:00\n",
      "Average TPS: 8290.89\n",
      "---------\n",
      "-- Neighborlist stats:\n",
      "694 normal updates / 200 forced updates / 0 dangerous updates\n",
      "n_neigh_min: 0 / n_neigh_max: 53 / n_neigh_avg: 22.128\n",
      "shortest rebuild period: 11\n",
      "-- Cell list stats:\n",
      "Dimension: 2, 2, 2\n",
      "n_min    : 0 / n_max: 58 / n_avg: 15.625\n",
      "** run complete **\n"
     ]
    }
   ],
   "source": [
    "sim1 = context.initialize('')\n",
    "init.create_lattice(unitcell=lattice.sc(a=2.0), n=5)\n",
    "# setup forces, integrators and run simulation 1\n",
    "nl = md.nlist.cell()\n",
    "lj = md.pair.lj(r_cut=3.0, nlist=nl)\n",
    "lj.pair_coeff.set('A', 'A', epsilon=1.0, sigma=1.0)\n",
    "all = group.all();\n",
    "md.integrate.mode_standard(dt=0.001)\n",
    "md.integrate.brownian(group=all, kT=0.1, seed=987)\n",
    "run(2e4)"
   ]
  },
  {
   "cell_type": "code",
   "execution_count": 5,
   "metadata": {
    "collapsed": false
   },
   "outputs": [
    {
     "name": "stdout",
     "output_type": "stream",
     "text": [
      "notice(2): Group \"all\" created containing 1000 particles\n",
      "notice(2): integrate.langevin/bd is using specified gamma values\n",
      "notice(2): -- Neighborlist exclusion statistics -- :\n",
      "notice(2): Particles with 0 exclusions             : 1000\n",
      "notice(2): Neighbors included by diameter          : no\n",
      "notice(2): Neighbors excluded when in the same body: no\n",
      "** starting run **\n",
      "Time 00:00:02 | Step 2000 / 2000 | TPS 897.287 | ETA 00:00:00\n",
      "Average TPS: 896.98\n",
      "---------\n",
      "-- Neighborlist stats:\n",
      "265 normal updates / 20 forced updates / 0 dangerous updates\n",
      "n_neigh_min: 0 / n_neigh_max: 26 / n_neigh_avg: 9.731\n",
      "shortest rebuild period: 5\n",
      "-- Cell list stats:\n",
      "Dimension: 5, 5, 5\n",
      "n_min    : 1 / n_max: 18 / n_avg: 8\n",
      "** run complete **\n"
     ]
    }
   ],
   "source": [
    "sim2 = context.initialize('')\n",
    "init.create_lattice(unitcell=lattice.sc(a=2.0), n=10)\n",
    "# setup forces, integrators and run simulation 2\n",
    "nl = md.nlist.cell()\n",
    "lj = md.pair.lj(r_cut=3.0, nlist=nl)\n",
    "lj.pair_coeff.set('A', 'A', epsilon=1.0, sigma=1.0)\n",
    "all = group.all();\n",
    "md.integrate.mode_standard(dt=0.001)\n",
    "md.integrate.brownian(group=all, kT=0.2, seed=10)\n",
    "run(2e3)"
   ]
  },
  {
   "cell_type": "markdown",
   "metadata": {},
   "source": [
    "## Switching between contexts\n",
    "\n",
    "The above example showed how to run multiple simulations in one script, one after another. You can also save contexts in variables and swap between them. All hoomd commands, such as run apply to the current context only. For more information, see the [documentation for SimulationContext](http://hoomd-blue.readthedocs.io/en/stable/module-hoomd-context.html#hoomd.context.SimulationContext)\n",
    "\n",
    "Activate simulation 1 and continue running it for more steps."
   ]
  },
  {
   "cell_type": "code",
   "execution_count": 6,
   "metadata": {
    "collapsed": false
   },
   "outputs": [
    {
     "name": "stdout",
     "output_type": "stream",
     "text": [
      "** starting run **\n",
      "Time 00:00:06 | Step 40000 / 40000 | TPS 9334.57 | ETA 00:00:00\n",
      "Average TPS: 9332.06\n",
      "---------\n",
      "-- Neighborlist stats:\n",
      "556 normal updates / 200 forced updates / 0 dangerous updates\n",
      "n_neigh_min: 0 / n_neigh_max: 54 / n_neigh_avg: 23.888\n",
      "shortest rebuild period: 12\n",
      "-- Cell list stats:\n",
      "Dimension: 2, 2, 2\n",
      "n_min    : 0 / n_max: 61 / n_avg: 15.625\n",
      "** run complete **\n"
     ]
    }
   ],
   "source": [
    "with sim1:\n",
    "    run(2e4)"
   ]
  },
  {
   "cell_type": "markdown",
   "metadata": {},
   "source": [
    "Activate simulation 2 and continue running it for more steps."
   ]
  },
  {
   "cell_type": "code",
   "execution_count": 7,
   "metadata": {
    "collapsed": false
   },
   "outputs": [
    {
     "name": "stdout",
     "output_type": "stream",
     "text": [
      "** starting run **\n",
      "Time 00:00:06 | Step 4000 / 4000 | TPS 1122.98 | ETA 00:00:00\n",
      "Average TPS: 1121.96\n",
      "---------\n",
      "-- Neighborlist stats:\n",
      "248 normal updates / 20 forced updates / 0 dangerous updates\n",
      "n_neigh_min: 0 / n_neigh_max: 52 / n_neigh_avg: 12.267\n",
      "shortest rebuild period: 5\n",
      "-- Cell list stats:\n",
      "Dimension: 5, 5, 5\n",
      "n_min    : 0 / n_max: 27 / n_avg: 8\n",
      "** run complete **\n"
     ]
    }
   ],
   "source": [
    "with sim2:\n",
    "    run(2e3)"
   ]
  },
  {
   "cell_type": "code",
   "execution_count": null,
   "metadata": {
    "collapsed": true
   },
   "outputs": [],
   "source": []
  }
 ],
 "metadata": {
  "kernelspec": {
   "display_name": "Python 3",
   "language": "python",
   "name": "python3"
  },
  "language_info": {
   "codemirror_mode": {
    "name": "ipython",
    "version": 3
   },
   "file_extension": ".py",
   "mimetype": "text/x-python",
   "name": "python",
   "nbconvert_exporter": "python",
   "pygments_lexer": "ipython3",
   "version": "3.3.5"
  }
 },
 "nbformat": 4,
 "nbformat_minor": 0
}
