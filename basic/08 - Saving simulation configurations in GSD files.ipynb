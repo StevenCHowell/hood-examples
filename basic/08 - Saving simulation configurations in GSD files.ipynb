{
 "cells": [
  {
   "cell_type": "markdown",
   "metadata": {},
   "source": [
    "# Saving simulation configurations in GSD files\n",
    "\n",
    "## \"Dumping\" data\n",
    "Here we will discuss how to save the results of your simulation, known as \"dumping\". Hoomd is capable of saving both the final configuration, along with intermediate configurations at specified points as the simulation runs. This tutorial will cover the basics of dumping configurations into a GSD formatted file. For specific hoomd documentation see [hoomd.dump.gsd](http://hoomd-blue.readthedocs.io/en/latest/module-hoomd-dump.html#hoomd.dump.gsd).\n",
    "\n",
    "Let's write a new script, built off of the Quick Start tutorial, that dumps for us."
   ]
  },
  {
   "cell_type": "code",
   "execution_count": 6,
   "metadata": {
    "collapsed": false
   },
   "outputs": [
    {
     "name": "stdout",
     "output_type": "stream",
     "text": [
      "notice(2): Group \"all\" created containing 125 particles\n",
      "notice(2): integrate.langevin/bd is using specified gamma values\n",
      "notice(2): -- Neighborlist exclusion statistics -- :\n",
      "notice(2): Particles with 0 exclusions             : 125\n",
      "notice(2): Neighbors included by diameter          : no\n",
      "notice(2): Neighbors excluded when in the same body: no\n",
      "** starting run **\n",
      "Time 00:00:09 | Step 100000 / 100000 | TPS 10934.9 | ETA 00:00:00\n",
      "Average TPS: 10934\n",
      "---------\n",
      "-- Neighborlist stats:\n",
      "7957 normal updates / 1000 forced updates / 0 dangerous updates\n",
      "n_neigh_min: 0 / n_neigh_max: 73 / n_neigh_avg: 31.888\n",
      "shortest rebuild period: 5\n",
      "-- Cell list stats:\n",
      "Dimension: 2, 2, 2\n",
      "n_min    : 0 / n_max: 55 / n_avg: 15.625\n",
      "** run complete **\n"
     ]
    }
   ],
   "source": [
    "import hoomd\n",
    "from hoomd import init, group, context, md, data\n",
    "context.initialize('') # empty quotes '' are required to run in a jupyter notebook, but not if run from a terminal.\n",
    "\n",
    "system = hoomd.init.create_lattice(unitcell=hoomd.lattice.sc(a=2.0), n=5)\n",
    "\n",
    "# specify Lennard-Jones interactions between particle pairs\n",
    "nl = md.nlist.cell()\n",
    "lj = md.pair.lj(r_cut=3.0, nlist=nl)\n",
    "lj.pair_coeff.set('A', 'A', epsilon=1.0, sigma=1.0)\n",
    "\n",
    "# integrate at constant temperature\n",
    "all = group.all();\n",
    "md.integrate.mode_standard(dt=0.001)\n",
    "md.integrate.brownian(group=all, kT=0.2, seed=987)\n",
    "\n",
    "# dumping specifications\n",
    "hoomd.dump.gsd(\"trajectory.gsd\", period=2e3, group=all, overwrite=True)\n",
    "\n",
    "# run 100,000 time steps\n",
    "hoomd.run(1e5)"
   ]
  },
  {
   "cell_type": "code",
   "execution_count": null,
   "metadata": {
    "collapsed": true
   },
   "outputs": [],
   "source": []
  }
 ],
 "metadata": {
  "kernelspec": {
   "display_name": "Python 3",
   "language": "python",
   "name": "python3"
  },
  "language_info": {
   "codemirror_mode": {
    "name": "ipython",
    "version": 3
   },
   "file_extension": ".py",
   "mimetype": "text/x-python",
   "name": "python",
   "nbconvert_exporter": "python",
   "pygments_lexer": "ipython3",
   "version": "3.3.5"
  }
 },
 "nbformat": 4,
 "nbformat_minor": 0
}
