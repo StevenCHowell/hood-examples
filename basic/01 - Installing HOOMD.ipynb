{
 "cells": [
  {
   "cell_type": "markdown",
   "metadata": {},
   "source": [
    "# Installing HOOMD\n",
    "\n",
    "## Using Anaconda\n",
    "\n",
    "To install HOOMD-blue on a desktop or laptop, first download and install [miniconda](http://conda.pydata.org/miniconda.html) following [conda's instructions](http://conda.pydata.org/docs/install/quick.html). Then add the glotzer channel and install HOOMD-blue:\n",
    "```\n",
    "▶ conda config --add channels glotzer\n",
    "▶ conda install hoomd\n",
    "```\n",
    "Some of the example notebooks use other software packages for visualization, file access, displaying the notebooks themselves, etc... Install these packages with conda as well.\n",
    "```\n",
    "▶ conda install jupyter gsd matplotlib bokeh\n",
    "```\n",
    "\n",
    "## From source\n",
    "\n",
    "On clusters, you should compile hoomd from source so it will use the native communication fabric for MPI parallel simulations. See the [documentation on compiling HOOMD](http://hoomd-blue.readthedocs.io/en/stable/compiling.html) for information. See your cluster's documentation for information on loading software modules that provide the other dependancies for running these notebooks.\n",
    "\n",
    "## Test hoomd\n",
    "\n",
    "The following code should print status information if hoomd is installed and available on the python path."
   ]
  },
  {
   "cell_type": "code",
   "execution_count": 1,
   "metadata": {
    "collapsed": false
   },
   "outputs": [
    {
     "name": "stdout",
     "output_type": "stream",
     "text": [
      "HOOMD-blue v2.0.2 CUDA (7.5) DOUBLE HPMC_MIXED MPI SSE SSE2 SSE3 SSE4_1 SSE4_2 AVX \n",
      "Compiled: 08/24/2016\n",
      "Copyright 2009-2016 The Regents of the University of Michigan.\n",
      "-----\n",
      "You are using HOOMD-blue. Please cite the following:\n",
      "* J A Anderson, C D Lorenz, and A Travesset. \"General purpose molecular dynamics\n",
      "  simulations fully implemented on graphics processing units\", Journal of\n",
      "  Computational Physics 227 (2008) 5342--5359\n",
      "* J Glaser, T D Nguyen, J A Anderson, P Liu, F Spiga, J A Millan, D C Morse, and\n",
      "  S C Glotzer. \"Strong scaling of general-purpose molecular dynamics simulations\n",
      "  on GPUs\", Computer Physics Communications 192 (2015) 97--107\n",
      "-----\n",
      "notice(2): This system is not compute exclusive, using local rank to select GPUs\n",
      "notice(2): Unable to identify node local rank information\n",
      "notice(2): Using global rank to select GPUs\n",
      "HOOMD-blue is running on the following GPU(s):\n",
      " [0]            Tesla K20c  13 SM_3.5 @ 0.706 GHz, 5060 MiB DRAM\n"
     ]
    },
    {
     "data": {
      "text/plain": [
       "<hoomd.context.SimulationContext at 0x7f98ad47c850>"
      ]
     },
     "execution_count": 1,
     "metadata": {},
     "output_type": "execute_result"
    }
   ],
   "source": [
    "import hoomd\n",
    "hoomd.context.initialize('')"
   ]
  },
  {
   "cell_type": "code",
   "execution_count": null,
   "metadata": {
    "collapsed": true
   },
   "outputs": [],
   "source": []
  }
 ],
 "metadata": {
  "kernelspec": {
   "display_name": "Python 3",
   "language": "python",
   "name": "python3"
  },
  "language_info": {
   "codemirror_mode": {
    "name": "ipython",
    "version": 3
   },
   "file_extension": ".py",
   "mimetype": "text/x-python",
   "name": "python",
   "nbconvert_exporter": "python",
   "pygments_lexer": "ipython3",
   "version": "3.3.5"
  }
 },
 "nbformat": 4,
 "nbformat_minor": 0
}
