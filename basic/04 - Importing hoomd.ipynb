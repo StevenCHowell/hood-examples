{
 "cells": [
  {
   "cell_type": "markdown",
   "metadata": {},
   "source": [
    "# Importing hoomd\n",
    "\n",
    "There are two common ways to import hoomd: **import hoomd** and **from hoomd import * **. For more information on how python imports packages and modules, [see the python tutorial](https://docs.python.org/3/tutorial/modules.html).\n",
    "\n",
    "## import hoomd\n",
    "\n",
    "The first imports hoomd and adds that module to the current python namespace. When importing hoomd in this way, you must prefix all commands with ``hoomd.`` (note the period). This makes all access to hoomd explicit and prevents hoomd from creating variables in your namespace that you do not expect."
   ]
  },
  {
   "cell_type": "code",
   "execution_count": 5,
   "metadata": {
    "collapsed": false
   },
   "outputs": [
    {
     "name": "stdout",
     "output_type": "stream",
     "text": [
      "notice(2): Group \"all\" created containing 125 particles\n",
      "** starting run **\n",
      "Time 00:00:00 | Step 10 / 10 | TPS 18.0538 | ETA 00:00:00\n",
      "Average TPS: 18.0278\n",
      "---------\n",
      "** run complete **\n"
     ]
    },
    {
     "name": "stderr",
     "output_type": "stream",
     "text": [
      "*Warning*: Starting a run without an integrator set*Warning*: You are running without an integrator\n"
     ]
    }
   ],
   "source": [
    "import hoomd\n",
    "hoomd.context.initialize('--mode=cpu')\n",
    "hoomd.init.create_lattice(unitcell=hoomd.lattice.sc(a=2.0), n=5)\n",
    "hoomd.run(10)"
   ]
  },
  {
   "cell_type": "markdown",
   "metadata": {},
   "source": [
    "## from hoomd import *\n",
    "\n",
    "The second common way imports all of the hoomd modules, functions, etc... into the current namespace. With ``from hoomd import *``, you do not need the ``hoomd.`` prefix."
   ]
  },
  {
   "cell_type": "code",
   "execution_count": 6,
   "metadata": {
    "collapsed": false
   },
   "outputs": [
    {
     "name": "stdout",
     "output_type": "stream",
     "text": [
      "notice(2): Group \"all\" created containing 125 particles\n",
      "** starting run **\n",
      "Time 00:00:00 | Step 10 / 10 | TPS 18.0488 | ETA 00:00:00\n",
      "Average TPS: 18.023\n",
      "---------\n",
      "** run complete **\n"
     ]
    },
    {
     "name": "stderr",
     "output_type": "stream",
     "text": [
      "*Warning*: Starting a run without an integrator set*Warning*: You are running without an integrator\n"
     ]
    }
   ],
   "source": [
    "from hoomd import *\n",
    "context.initialize('--mode=cpu')\n",
    "init.create_lattice(unitcell=hoomd.lattice.sc(a=2.0), n=5)\n",
    "run(10)"
   ]
  },
  {
   "cell_type": "markdown",
   "metadata": {},
   "source": [
    "## Importing packages\n",
    "\n",
    "Similarly, you can import packages such as md with **import hoomd.package** or **from hoomd import package**. For example, with the the **md** package."
   ]
  },
  {
   "cell_type": "code",
   "execution_count": 7,
   "metadata": {
    "collapsed": false
   },
   "outputs": [
    {
     "name": "stdout",
     "output_type": "stream",
     "text": [
      "notice(2): Group \"all\" created containing 125 particles\n"
     ]
    }
   ],
   "source": [
    "import hoomd.md\n",
    "hoomd.context.initialize('--mode=cpu')\n",
    "hoomd.init.create_lattice(unitcell=lattice.sc(a=2.0), n=5)\n",
    "\n",
    "# specify Lennard-Jones interactions between particle pairs\n",
    "nl = hoomd.md.nlist.cell()\n",
    "lj = hoomd.md.pair.lj(r_cut=3.0, nlist=nl)"
   ]
  },
  {
   "cell_type": "code",
   "execution_count": 8,
   "metadata": {
    "collapsed": false
   },
   "outputs": [
    {
     "name": "stdout",
     "output_type": "stream",
     "text": [
      "notice(2): Group \"all\" created containing 125 particles\n"
     ]
    }
   ],
   "source": [
    "from hoomd import md\n",
    "context.initialize('--mode=cpu')\n",
    "init.create_lattice(unitcell=lattice.sc(a=2.0), n=5)\n",
    "\n",
    "# specify Lennard-Jones interactions between particle pairs\n",
    "nl = md.nlist.cell()\n",
    "lj = md.pair.lj(r_cut=3.0, nlist=nl)"
   ]
  },
  {
   "cell_type": "code",
   "execution_count": null,
   "metadata": {
    "collapsed": true
   },
   "outputs": [],
   "source": []
  }
 ],
 "metadata": {
  "kernelspec": {
   "display_name": "Python 3",
   "language": "python",
   "name": "python3"
  },
  "language_info": {
   "codemirror_mode": {
    "name": "ipython",
    "version": 3
   },
   "file_extension": ".py",
   "mimetype": "text/x-python",
   "name": "python",
   "nbconvert_exporter": "python",
   "pygments_lexer": "ipython3",
   "version": "3.3.5"
  }
 },
 "nbformat": 4,
 "nbformat_minor": 0
}
