{
 "cells": [
  {
   "cell_type": "code",
   "execution_count": 1,
   "metadata": {
    "collapsed": false
   },
   "outputs": [
    {
     "name": "stdout",
     "output_type": "stream",
     "text": [
      "HOOMD-blue v2.1.1 DOUBLE HPMC_MIXED SSE SSE2 SSE3 SSE4_1 SSE4_2 AVX \n",
      "Compiled: 10/24/16\n",
      "Copyright 2009-2016 The Regents of the University of Michigan.\n",
      "-----\n",
      "You are using HOOMD-blue. Please cite the following:\n",
      "* J A Anderson, C D Lorenz, and A Travesset. \"General purpose molecular dynamics\n",
      "  simulations fully implemented on graphics processing units\", Journal of\n",
      "  Computational Physics 227 (2008) 5342--5359\n",
      "* J Glaser, T D Nguyen, J A Anderson, P Liu, F Spiga, J A Millan, D C Morse, and\n",
      "  S C Glotzer. \"Strong scaling of general-purpose molecular dynamics simulations\n",
      "  on GPUs\", Computer Physics Communications 192 (2015) 97--107\n",
      "-----\n"
     ]
    }
   ],
   "source": [
    "import hoomd\n",
    "from hoomd import md"
   ]
  },
  {
   "cell_type": "markdown",
   "metadata": {},
   "source": [
    "# Advancing simulations\n",
    "\n",
    "Use `run` to advance a simulation forward a given number of time steps. For this tutorial, we use the same setup from the Quick Start."
   ]
  },
  {
   "cell_type": "code",
   "execution_count": 2,
   "metadata": {
    "collapsed": false
   },
   "outputs": [
    {
     "name": "stdout",
     "output_type": "stream",
     "text": [
      "HOOMD-blue is running on the CPU\n",
      "notice(2): Group \"all\" created containing 125 particles\n",
      "notice(2): integrate.langevin/bd is using specified gamma values\n"
     ]
    },
    {
     "data": {
      "text/plain": [
       "<hoomd.md.integrate.brownian at 0x10a64e5f8>"
      ]
     },
     "execution_count": 2,
     "metadata": {},
     "output_type": "execute_result"
    }
   ],
   "source": [
    "hoomd.context.initialize('--mode=cpu')\n",
    "system = hoomd.init.create_lattice(unitcell=hoomd.lattice.sc(a=2.0), n=5)\n",
    "nl = md.nlist.cell()\n",
    "lj = md.pair.lj(r_cut=3.0, nlist=nl)\n",
    "lj.pair_coeff.set('A', 'A', epsilon=1.0, sigma=1.0)\n",
    "all = hoomd.group.all();\n",
    "md.integrate.mode_standard(dt=0.001)\n",
    "md.integrate.brownian(group=all, kT=0.1, seed=987)"
   ]
  },
  {
   "cell_type": "markdown",
   "metadata": {},
   "source": [
    "After initialization with `create_lattice`, the simulation starts at time step 0. Query the current step counter with [get_step](http://hoomd-blue.readthedocs.io/en/stable/package-hoomd.html#hoomd.get_step)."
   ]
  },
  {
   "cell_type": "code",
   "execution_count": 3,
   "metadata": {
    "collapsed": false
   },
   "outputs": [
    {
     "data": {
      "text/plain": [
       "0"
      ]
     },
     "execution_count": 3,
     "metadata": {},
     "output_type": "execute_result"
    }
   ],
   "source": [
    "hoomd.get_step()"
   ]
  },
  {
   "cell_type": "markdown",
   "metadata": {},
   "source": [
    "Each HOOMD script can have one **integrator** active at a time. This example uses the `mode_standard` integrator from the `md` package. On each time step, `mode_standard` advances the simulation forward `dt` time units, integrating the equations of motion specified in the provided integration methods (brownian dynamics in this example). Use `run` to advance the simulation a given number of steps."
   ]
  },
  {
   "cell_type": "code",
   "execution_count": 4,
   "metadata": {
    "collapsed": false
   },
   "outputs": [
    {
     "name": "stdout",
     "output_type": "stream",
     "text": [
      "notice(2): -- Neighborlist exclusion statistics -- :\n",
      "notice(2): Particles with 0 exclusions             : 125\n",
      "notice(2): Neighbors included by diameter          : no\n",
      "notice(2): Neighbors excluded when in the same body: no\n",
      "** starting run **\n",
      "Time 00:00:39 | Step 1000 / 1000 | TPS 1848.57 | ETA 00:00:00\n",
      "Average TPS: 1846.76\n",
      "---------\n",
      "-- Neighborlist stats:\n",
      "54 normal updates / 11 forced updates / 0 dangerous updates\n",
      "n_neigh_min: 0 / n_neigh_max: 22 / n_neigh_avg: 9.392\n",
      "shortest rebuild period: 12\n",
      "-- Cell list stats:\n",
      "Dimension: 2, 2, 2\n",
      "n_min    : 11 / n_max: 19 / n_avg: 15.625\n",
      "** run complete **\n"
     ]
    }
   ],
   "source": [
    "hoomd.run(1000)"
   ]
  },
  {
   "cell_type": "markdown",
   "metadata": {},
   "source": [
    "Now we are at step 1000."
   ]
  },
  {
   "cell_type": "code",
   "execution_count": 5,
   "metadata": {
    "collapsed": false
   },
   "outputs": [
    {
     "data": {
      "text/plain": [
       "1000"
      ]
     },
     "execution_count": 5,
     "metadata": {},
     "output_type": "execute_result"
    }
   ],
   "source": [
    "hoomd.get_step()"
   ]
  },
  {
   "cell_type": "markdown",
   "metadata": {},
   "source": [
    "## Run options\n",
    "\n",
    "The output from run is useful in batch jobs. However, sometimes you may want to supress it with the `quiet` option."
   ]
  },
  {
   "cell_type": "code",
   "execution_count": 6,
   "metadata": {
    "collapsed": false
   },
   "outputs": [
    {
     "data": {
      "text/plain": [
       "2000"
      ]
     },
     "execution_count": 6,
     "metadata": {},
     "output_type": "execute_result"
    }
   ],
   "source": [
    "hoomd.run(1000, quiet=True)\n",
    "hoomd.get_step()"
   ]
  },
  {
   "cell_type": "markdown",
   "metadata": {},
   "source": [
    "You may want to limit a run to a given length of time (e.g. for short benchmark runs). Use `limit_hours` to stop a run after so many hours, even if it has not reached the requested number of time steps."
   ]
  },
  {
   "cell_type": "code",
   "execution_count": 7,
   "metadata": {
    "collapsed": false
   },
   "outputs": [
    {
     "name": "stdout",
     "output_type": "stream",
     "text": [
      "notice(2): Ending run at time step 74451 as 0.00138889 hours have passed\n"
     ]
    }
   ],
   "source": [
    "hoomd.run(1e6, limit_hours=5/3600, quiet=True)"
   ]
  },
  {
   "cell_type": "markdown",
   "metadata": {},
   "source": [
    "The profile option prints information on how much time was spent in each portion of the calculation. This is helpful when trying to identify why a simulation is running slowly."
   ]
  },
  {
   "cell_type": "code",
   "execution_count": 8,
   "metadata": {
    "collapsed": false
   },
   "outputs": [
    {
     "name": "stdout",
     "output_type": "stream",
     "text": [
      "** starting run **\n",
      "Time 00:01:42 | Step 84451 / 84451 | TPS 13640.2 | ETA 00:00:00\n",
      "Average TPS: 13635.8\n",
      "Simulation:  0.7334s | 100.000% \n",
      "        Integrate:  0.2186s | 29.811% \n",
      "                BD step 1:  0.2008s | 27.384% \n",
      "                Net force:  0.0121s |  1.657% \n",
      "                Sum accel:  0.0000s |  0.001% \n",
      "                Self:       0.0056s |  0.770% \n",
      "        Neighbor:   0.0735s | 10.019% \n",
      "                Cell:        0.0017s |  0.237% \n",
      "                        compute:  0.0013s |  0.181% \n",
      "                        init:     0.0000s |  0.004% \n",
      "                Dist check:  0.0082s |  1.122% \n",
      "                compute:     0.0611s |  8.332% \n",
      "                head-list:   0.0000s |  0.006% \n",
      "                Self:        0.0024s |  0.322% \n",
      "        Pair lj:    0.4329s | 59.023% \n",
      "        SFCPack:    0.0023s |  0.316% \n",
      "        Self:       0.0061s |  0.831% \n",
      "---------\n",
      "-- Neighborlist stats:\n",
      "246 normal updates / 101 forced updates / 0 dangerous updates\n",
      "n_neigh_min: 0 / n_neigh_max: 51 / n_neigh_avg: 24.37600\n",
      "shortest rebuild period: 13\n",
      "-- Cell list stats:\n",
      "Dimension: 2, 2, 2\n",
      "n_min    : 0 / n_max: 59 / n_avg: 15.62500\n",
      "** run complete **\n"
     ]
    }
   ],
   "source": [
    "hoomd.run(10000, profile=True)"
   ]
  },
  {
   "cell_type": "markdown",
   "metadata": {},
   "source": [
    "## Callbacks\n",
    "\n",
    "You can specify an arbitrary python callback to run. This function will be called at the given period. If the function returns a negative value, the run is aborted."
   ]
  },
  {
   "cell_type": "code",
   "execution_count": 9,
   "metadata": {
    "collapsed": false
   },
   "outputs": [
    {
     "name": "stdout",
     "output_type": "stream",
     "text": [
      "This is step 85000\n",
      "notice(2): End of run requested by python callback at step 85000 / 1084451\n"
     ]
    }
   ],
   "source": [
    "def my_callback(step):\n",
    "    print(\"This is step\", step)\n",
    "    if step >= 70000:\n",
    "        return -1\n",
    "    else:\n",
    "        return 0\n",
    "\n",
    "hoomd.run(1e6, callback=my_callback, callback_period=1000, quiet=True)"
   ]
  },
  {
   "cell_type": "code",
   "execution_count": 11,
   "metadata": {
    "collapsed": false
   },
   "outputs": [
    {
     "name": "stdout",
     "output_type": "stream",
     "text": [
      "** starting run **\n",
      "This is step 85000\n",
      "This is step 86000\n",
      "This is step 87000\n",
      "This is step 88000\n",
      "This is step 89000\n",
      "This is step 90000\n",
      "This is step 91000\n",
      "This is step 92000\n",
      "This is step 93000\n",
      "This is step 94000\n",
      "This is step 95000\n",
      "notice(2): End of run requested by python callback at step 95000 / 1085000\n",
      "Time 00:03:46 | Step 95000 / 1085000 | TPS 13218.78813 | ETA 00:01:14\n",
      "Average TPS: 13216.27240\n",
      "Simulation:  0.7567s | 100.000% \n",
      "        Integrate:  0.2250s | 29.733% \n",
      "                BD step 1:  0.2041s | 26.968% \n",
      "                Net force:  0.0145s |  1.914% \n",
      "                Sum accel:  0.0000s |  0.000% \n",
      "                Self:       0.0064s |  0.851% \n",
      "        Neighbor:   0.0780s | 10.304% \n",
      "                Cell:        0.0021s |  0.279% \n",
      "                        compute:  0.0015s |  0.200% \n",
      "                        init:     0.0000s |  0.002% \n",
      "                Dist check:  0.0085s |  1.127% \n",
      "                compute:     0.0646s |  8.533% \n",
      "                head-list:   0.0001s |  0.008% \n",
      "                Self:        0.0027s |  0.357% \n",
      "        Pair lj:    0.4406s | 58.234% \n",
      "        SFCPack:    0.0030s |  0.400% \n",
      "        Self:       0.0101s |  1.330% \n",
      "---------\n",
      "-- Neighborlist stats:\n",
      "258 normal updates / 101 forced updates / 0 dangerous updates\n",
      "n_neigh_min: 0 / n_neigh_max: 53 / n_neigh_avg: 24.37600\n",
      "shortest rebuild period: 12\n",
      "-- Cell list stats:\n",
      "Dimension: 2, 2, 2\n",
      "n_min    : 0 / n_max: 57 / n_avg: 15.62500\n",
      "** run complete **\n"
     ]
    }
   ],
   "source": [
    "def my_callback(step):\n",
    "    print(\"This is step\", step)\n",
    "    if step >= 95000:\n",
    "        return -1\n",
    "    else:\n",
    "        return 0\n",
    "\n",
    "hoomd.run(1e6, callback=my_callback, callback_period=1000, profile=True)"
   ]
  },
  {
   "cell_type": "code",
   "execution_count": null,
   "metadata": {
    "collapsed": true
   },
   "outputs": [],
   "source": []
  }
 ],
 "metadata": {
  "anaconda-cloud": {},
  "kernelspec": {
   "display_name": "Python [default]",
   "language": "python",
   "name": "python3"
  },
  "language_info": {
   "codemirror_mode": {
    "name": "ipython",
    "version": 3
   },
   "file_extension": ".py",
   "mimetype": "text/x-python",
   "name": "python",
   "nbconvert_exporter": "python",
   "pygments_lexer": "ipython3",
   "version": "3.5.2"
  }
 },
 "nbformat": 4,
 "nbformat_minor": 0
}
