{
 "cells": [
  {
   "cell_type": "code",
   "execution_count": 2,
   "metadata": {
    "collapsed": false
   },
   "outputs": [],
   "source": [
    "import hoomd\n",
    "from hoomd import md"
   ]
  },
  {
   "cell_type": "markdown",
   "metadata": {},
   "source": [
    "# Advancing simulations\n",
    "\n",
    "Use `run` to advance a simulation forward a given number of time steps. For this tutorial, we use the same setup from the Quick Start."
   ]
  },
  {
   "cell_type": "code",
   "execution_count": 2,
   "metadata": {
    "collapsed": false
   },
   "outputs": [
    {
     "name": "stdout",
     "output_type": "stream",
     "text": [
      "HOOMD-blue is running on the CPU\n",
      "notice(2): Group \"all\" created containing 125 particles\n",
      "notice(2): integrate.langevin/bd is using specified gamma values\n"
     ]
    },
    {
     "data": {
      "text/plain": [
       "<hoomd.md.integrate.brownian at 0x7fd38712dbd0>"
      ]
     },
     "execution_count": 2,
     "metadata": {},
     "output_type": "execute_result"
    }
   ],
   "source": [
    "hoomd.context.initialize('--mode=cpu')\n",
    "system = hoomd.init.create_lattice(unitcell=hoomd.lattice.sc(a=2.0), n=5)\n",
    "nl = md.nlist.cell()\n",
    "lj = md.pair.lj(r_cut=3.0, nlist=nl)\n",
    "lj.pair_coeff.set('A', 'A', epsilon=1.0, sigma=1.0)\n",
    "all = hoomd.group.all();\n",
    "md.integrate.mode_standard(dt=0.001)\n",
    "md.integrate.brownian(group=all, kT=0.1, seed=987)"
   ]
  },
  {
   "cell_type": "markdown",
   "metadata": {},
   "source": [
    "After initialization with `create_lattice`, the simulation starts at time step 0. Query the current step counter with [get_step](http://hoomd-blue.readthedocs.io/en/stable/package-hoomd.html#hoomd.get_step)."
   ]
  },
  {
   "cell_type": "code",
   "execution_count": 3,
   "metadata": {
    "collapsed": false
   },
   "outputs": [
    {
     "data": {
      "text/plain": [
       "0"
      ]
     },
     "execution_count": 3,
     "metadata": {},
     "output_type": "execute_result"
    }
   ],
   "source": [
    "hoomd.get_step()"
   ]
  },
  {
   "cell_type": "markdown",
   "metadata": {},
   "source": [
    "Each HOOMD script can have one **integrator** active at a time. This example uses the `mode_standard` integrator from the `md` package. On each time step, `mode_standard` advances the simulation forward `dt` time units, integrating the equations of motion specified in the provided integration methods (brownian dynamics in this example). Use `run` to advance the simulation a given number of steps."
   ]
  },
  {
   "cell_type": "code",
   "execution_count": 4,
   "metadata": {
    "collapsed": false
   },
   "outputs": [
    {
     "name": "stdout",
     "output_type": "stream",
     "text": [
      "notice(2): -- Neighborlist exclusion statistics -- :\n",
      "notice(2): Particles with 0 exclusions             : 125\n",
      "notice(2): Neighbors included by diameter          : no\n",
      "notice(2): Neighbors excluded when in the same body: no\n",
      "** starting run **\n",
      "Time 00:00:00 | Step 1000 / 1000 | TPS 1592.64 | ETA 00:00:00\n",
      "Average TPS: 1591.18\n",
      "---------\n",
      "-- Neighborlist stats:\n",
      "54 normal updates / 10 forced updates / 0 dangerous updates\n",
      "n_neigh_min: 0 / n_neigh_max: 22 / n_neigh_avg: 9.392\n",
      "shortest rebuild period: 12\n",
      "-- Cell list stats:\n",
      "Dimension: 2, 2, 2\n",
      "n_min    : 11 / n_max: 19 / n_avg: 15.625\n",
      "** run complete **\n"
     ]
    }
   ],
   "source": [
    "hoomd.run(1000)"
   ]
  },
  {
   "cell_type": "markdown",
   "metadata": {},
   "source": [
    "Now we are at step 1000."
   ]
  },
  {
   "cell_type": "code",
   "execution_count": 5,
   "metadata": {
    "collapsed": false
   },
   "outputs": [
    {
     "data": {
      "text/plain": [
       "1000"
      ]
     },
     "execution_count": 5,
     "metadata": {},
     "output_type": "execute_result"
    }
   ],
   "source": [
    "hoomd.get_step()"
   ]
  },
  {
   "cell_type": "markdown",
   "metadata": {},
   "source": [
    "## Run options\n",
    "\n",
    "The output from run is useful in batch jobs. However, sometimes you may want to supress it with the `quiet` option."
   ]
  },
  {
   "cell_type": "code",
   "execution_count": 6,
   "metadata": {
    "collapsed": false
   },
   "outputs": [
    {
     "data": {
      "text/plain": [
       "2000"
      ]
     },
     "execution_count": 6,
     "metadata": {},
     "output_type": "execute_result"
    }
   ],
   "source": [
    "hoomd.run(1000, quiet=True)\n",
    "hoomd.get_step()"
   ]
  },
  {
   "cell_type": "markdown",
   "metadata": {},
   "source": [
    "You may want to limit a run to a given length of time (e.g. for short benchmark runs). Use `limit_hours` to stop a run after so many hours, even if it has not reached the requested number of time steps."
   ]
  },
  {
   "cell_type": "code",
   "execution_count": 7,
   "metadata": {
    "collapsed": false
   },
   "outputs": [
    {
     "name": "stdout",
     "output_type": "stream",
     "text": [
      "notice(2): Ending run at time step 49159 as 0.00138889 hours have passed\n"
     ]
    }
   ],
   "source": [
    "hoomd.run(1e6, limit_hours=5/3600, quiet=True)"
   ]
  },
  {
   "cell_type": "markdown",
   "metadata": {},
   "source": [
    "The profile option prints information on how much time was spent in each portion of the calculation. This is helpful when trying to identify why a simulation is running slowly."
   ]
  },
  {
   "cell_type": "code",
   "execution_count": 8,
   "metadata": {
    "collapsed": false
   },
   "outputs": [
    {
     "name": "stdout",
     "output_type": "stream",
     "text": [
      "** starting run **\n",
      "Time 00:00:06 | Step 59159 / 59159 | TPS 8646.26 | ETA 00:00:00\n",
      "Average TPS: 8634.3\n",
      "Simulation:  1.1583s | 100.000% \n",
      "        Integrate:  0.3397s | 29.332% \n",
      "                BD step 1:  0.3143s | 27.138% \n",
      "                Net force:  0.0191s |  1.648% \n",
      "                Self:       0.0063s |  0.546% \n",
      "        Neighbor:   0.1010s |  8.721% \n",
      "                Cell:        0.0029s |  0.247% \n",
      "                        compute:  0.0026s |  0.226% \n",
      "                        init:     0.0000s |  0.002% \n",
      "                Dist check:  0.0114s |  0.984% \n",
      "                compute:     0.0838s |  7.234% \n",
      "                head-list:   0.0001s |  0.004% \n",
      "                Self:        0.0029s |  0.251% \n",
      "        Pair lj:    0.7056s | 60.921% \n",
      "        SFCPack:    0.0024s |  0.203% \n",
      "        Self:       0.0095s |  0.822% \n",
      "---------\n",
      "-- Neighborlist stats:\n",
      "262 normal updates / 101 forced updates / 0 dangerous updates\n",
      "n_neigh_min: 0 / n_neigh_max: 55 / n_neigh_avg: 24.20800\n",
      "shortest rebuild period: 12\n",
      "-- Cell list stats:\n",
      "Dimension: 2, 2, 2\n",
      "n_min    : 0 / n_max: 54 / n_avg: 15.62500\n",
      "** run complete **\n"
     ]
    }
   ],
   "source": [
    "hoomd.run(10000, profile=True)"
   ]
  },
  {
   "cell_type": "markdown",
   "metadata": {},
   "source": [
    "## Callbacks\n",
    "\n",
    "You can specify an arbitrary python callback to run. This function will be called at the given period. If the function returns a negative value, the run is aborted."
   ]
  },
  {
   "cell_type": "code",
   "execution_count": 9,
   "metadata": {
    "collapsed": false
   },
   "outputs": [
    {
     "name": "stdout",
     "output_type": "stream",
     "text": [
      "This is step 60000\n",
      "This is step 61000\n",
      "This is step 62000\n",
      "This is step 63000\n",
      "This is step 64000\n",
      "This is step 65000\n",
      "This is step 66000\n",
      "This is step 67000\n",
      "This is step 68000\n",
      "This is step 69000\n",
      "This is step 70000\n",
      "notice(2): End of run requested by python callback at step 70000 / 1059159\n"
     ]
    }
   ],
   "source": [
    "def my_callback(step):\n",
    "    print(\"This is step\", step)\n",
    "    if step >= 70000:\n",
    "        return -1\n",
    "    else:\n",
    "        return 0\n",
    "\n",
    "hoomd.run(1e6, callback=my_callback, callback_period=1000, quiet=True)"
   ]
  },
  {
   "cell_type": "code",
   "execution_count": null,
   "metadata": {
    "collapsed": true
   },
   "outputs": [],
   "source": []
  }
 ],
 "metadata": {
  "kernelspec": {
   "display_name": "Python 3",
   "language": "python",
   "name": "python3"
  },
  "language_info": {
   "codemirror_mode": {
    "name": "ipython",
    "version": 3
   },
   "file_extension": ".py",
   "mimetype": "text/x-python",
   "name": "python",
   "nbconvert_exporter": "python",
   "pygments_lexer": "ipython3",
   "version": "3.3.5"
  }
 },
 "nbformat": 4,
 "nbformat_minor": 0
}
