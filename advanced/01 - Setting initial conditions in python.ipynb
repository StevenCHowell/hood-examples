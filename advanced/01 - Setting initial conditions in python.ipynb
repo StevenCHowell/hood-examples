{
 "cells": [
  {
   "cell_type": "code",
   "execution_count": 15,
   "metadata": {
    "collapsed": false
   },
   "outputs": [],
   "source": [
    "from hoomd import *\n",
    "import numpy"
   ]
  },
  {
   "cell_type": "markdown",
   "metadata": {},
   "source": [
    "# Setting initial conditions in python\n",
    "\n",
    "You can set initial conditions for HOOMD using arbitrary python code via a snapshot. Use this to generate random initial conditions within a job script, provide customizable parameters for the initial conditions, or read from a custom file format. For more information, see the [data](http://hoomd-blue.readthedocs.io/en/stable/module-hoomd-data.html) and [init.read_snapshot](http://hoomd-blue.readthedocs.io/en/stable/module-hoomd-init.html#hoomd.init.read_snapshot) documentation.\n",
    "\n",
    "## Make Snapshot\n",
    "\n",
    "The first step is to make a snapshot to hold the particles. `N` is the number of particles to create, `box` is the simulation box, and `particle_types` is a list of the particle type names."
   ]
  },
  {
   "cell_type": "code",
   "execution_count": 10,
   "metadata": {
    "collapsed": false
   },
   "outputs": [],
   "source": [
    "context.initialize(\"\")\n",
    "snap = data.make_snapshot(N=4, box=data.boxdim(L=10), particle_types=['A', 'B'])"
   ]
  },
  {
   "cell_type": "markdown",
   "metadata": {},
   "source": [
    "The snapshot object contains [numpy](http://www.numpy.org/) arrays with all of the particle properties."
   ]
  },
  {
   "cell_type": "code",
   "execution_count": 11,
   "metadata": {
    "collapsed": false
   },
   "outputs": [
    {
     "name": "stdout",
     "output_type": "stream",
     "text": [
      "[[ 0.  0.  0.]\n",
      " [ 0.  0.  0.]\n",
      " [ 0.  0.  0.]\n",
      " [ 0.  0.  0.]]\n"
     ]
    }
   ],
   "source": [
    "print(snap.particles.position)"
   ]
  },
  {
   "cell_type": "code",
   "execution_count": 12,
   "metadata": {
    "collapsed": false
   },
   "outputs": [
    {
     "name": "stdout",
     "output_type": "stream",
     "text": [
      "[ 1.  1.  1.  1.]\n"
     ]
    }
   ],
   "source": [
    "print(snap.particles.diameter)"
   ]
  },
  {
   "cell_type": "code",
   "execution_count": 13,
   "metadata": {
    "collapsed": false
   },
   "outputs": [
    {
     "name": "stdout",
     "output_type": "stream",
     "text": [
      "[[ 0.  0.  0.]\n",
      " [ 0.  0.  0.]\n",
      " [ 0.  0.  0.]\n",
      " [ 0.  0.  0.]]\n"
     ]
    }
   ],
   "source": [
    "print(snap.particles.velocity)"
   ]
  },
  {
   "cell_type": "markdown",
   "metadata": {},
   "source": [
    "As you can see, all particles are initialized with default properties. See [data.make_snapshot](http://hoomd-blue.readthedocs.io/en/stable/module-hoomd-data.html#hoomd.data.make_snapshot) for more information on defaults.\n",
    "\n",
    "## Populate snapshot\n",
    "\n",
    "The next step is to populate the snapshot with your desired initial condition. This can be created by any code, or assigned by hand. Make sure to assign positions for all particles. Your simulation will blow up if you start all particles at the origin."
   ]
  },
  {
   "cell_type": "code",
   "execution_count": 14,
   "metadata": {
    "collapsed": true
   },
   "outputs": [],
   "source": [
    "snap.particles.position[0] = [1,2,3]\n",
    "snap.particles.position[1] = [-1,-2,-3]\n",
    "snap.particles.position[2] = [3,2,1]\n",
    "snap.particles.position[3] = [-3,-2,-1]"
   ]
  },
  {
   "cell_type": "markdown",
   "metadata": {},
   "source": [
    "You must assign elements of the arrays in the snapshot. You can copy an existing numpy array like so:"
   ]
  },
  {
   "cell_type": "code",
   "execution_count": 27,
   "metadata": {
    "collapsed": false
   },
   "outputs": [
    {
     "name": "stdout",
     "output_type": "stream",
     "text": [
      "[[ 0.54264128 -0.95849609  0.26729646]\n",
      " [ 0.49760777 -0.00298598 -0.55040669]\n",
      " [-0.60387427  0.52106142 -0.66177833]\n",
      " [-0.82332039  0.37071964  0.90678668]]\n"
     ]
    }
   ],
   "source": [
    "numpy.random.seed(10)\n",
    "my_velocity = numpy.random.random((4,3)) * 2 - 1\n",
    "snap.particles.velocity[:] = my_velocity[:]\n",
    "print(snap.particles.velocity)"
   ]
  },
  {
   "cell_type": "markdown",
   "metadata": {},
   "source": [
    "We assigned `particle_types=['A', 'B']` above. This makes the type id of 0 identify particle type 'A', and type id 1 identify particle type 'B'. The type id is just the index of the name in the list. Let's make the first three particles 'B' and the last one 'A':"
   ]
  },
  {
   "cell_type": "code",
   "execution_count": 28,
   "metadata": {
    "collapsed": true
   },
   "outputs": [],
   "source": [
    "snap.particles.typeid[:] = [1,1,1,0]"
   ]
  },
  {
   "cell_type": "markdown",
   "metadata": {},
   "source": [
    "## Initialize from snapshot\n",
    "\n",
    "The snapshot object `snap` stores a self-contained version of the system configuration. It is not connected with the rest of HOOMD. You can store as many snapshot objects as you can fit in memory, all with different properties. Use `init.read_snapshot` to initialize a HOOMD simulation from a snapshot."
   ]
  },
  {
   "cell_type": "code",
   "execution_count": 29,
   "metadata": {
    "collapsed": false
   },
   "outputs": [
    {
     "name": "stdout",
     "output_type": "stream",
     "text": [
      "notice(2): Group \"all\" created containing 4 particles\n"
     ]
    },
    {
     "data": {
      "text/plain": [
       "<hoomd.data.system_data at 0x7f6d9a733d50>"
      ]
     },
     "execution_count": 29,
     "metadata": {},
     "output_type": "execute_result"
    }
   ],
   "source": [
    "init.read_snapshot(snap)"
   ]
  },
  {
   "cell_type": "markdown",
   "metadata": {},
   "source": [
    "Now HOOMD is ready for pair forces, integrators, and other commands to configure the simulation run."
   ]
  },
  {
   "cell_type": "code",
   "execution_count": null,
   "metadata": {
    "collapsed": true
   },
   "outputs": [],
   "source": []
  }
 ],
 "metadata": {
  "kernelspec": {
   "display_name": "Python 3",
   "language": "python",
   "name": "python3"
  },
  "language_info": {
   "codemirror_mode": {
    "name": "ipython",
    "version": 3
   },
   "file_extension": ".py",
   "mimetype": "text/x-python",
   "name": "python",
   "nbconvert_exporter": "python",
   "pygments_lexer": "ipython3",
   "version": "3.3.5"
  }
 },
 "nbformat": 4,
 "nbformat_minor": 0
}
