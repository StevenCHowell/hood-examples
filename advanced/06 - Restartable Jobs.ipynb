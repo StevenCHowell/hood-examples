{
 "cells": [
  {
   "cell_type": "markdown",
   "metadata": {
    "collapsed": true
   },
   "source": [
    "# Restartable Jobs\n",
    "\n",
    "## Overview\n",
    "\n",
    "The ideal restartable job is a single job script that can be resubmitted over and over again to the job queue system. Each time the job starts, it picks up where it left off the last time and continues running until it is done. You can put all the logic necessary to do this in the hoomd python script itself, keeping the submission script simple:\n",
    "```\n",
    "#job.sh\n",
    "python run.py\n",
    "```\n",
    "With a properly configured python script, qsub job.sh is all that is necessary to submit the first run, continue a previous job that exited cleanly, and continue one that was prematurely killed."
   ]
  },
  {
   "cell_type": "markdown",
   "metadata": {},
   "source": [
    "## Elements of a restartable script\n",
    "A restartable needs to:\n",
    "- Choose between an initial condition and the restart file when initializing.\n",
    "- Write a restart file periodically.\n",
    "- Set a phase for all analysis, dump, and update commands.\n",
    "- Use hoomd.run_upto() to skip over time steps that were run in previous job submissions.\n",
    "- Use only commands that are restart capable.\n",
    "- Optionally ensure that jobs cleanly exit before the job walltime limit.\n",
    "\n",
    "### Choose the appropriate initialization file\n",
    "Let’s assume that the initial condition for the simulation is in ```init.gsd```, and ```restart.gsd``` is saved periodically as the job runs. A single ```hoomd.init.read_gsd()``` command will load the restart file if it exists, otherwise it will load the initial file. It is easiest to think about dump files, temperature ramps, etc... if ```init.gsd``` is at time step 0:\n",
    "```\n",
    "init.read_gsd(filename='init.gsd', restart='restart.gsd')\n",
    "```\n",
    "\n",
    "\n"
   ]
  },
  {
   "cell_type": "code",
   "execution_count": null,
   "metadata": {
    "collapsed": true
   },
   "outputs": [],
   "source": []
  },
  {
   "cell_type": "markdown",
   "metadata": {},
   "source": [
    "- if restart.gsd exists, load it\n",
    "- else create initial state\n",
    "- "
   ]
  }
 ],
 "metadata": {
  "kernelspec": {
   "display_name": "Python 3",
   "language": "python",
   "name": "python3"
  },
  "language_info": {
   "codemirror_mode": {
    "name": "ipython",
    "version": 3
   },
   "file_extension": ".py",
   "mimetype": "text/x-python",
   "name": "python",
   "nbconvert_exporter": "python",
   "pygments_lexer": "ipython3",
   "version": "3.3.5"
  }
 },
 "nbformat": 4,
 "nbformat_minor": 0
}
