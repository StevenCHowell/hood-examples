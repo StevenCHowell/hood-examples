{
 "cells": [
  {
   "cell_type": "markdown",
   "metadata": {},
   "source": [
    "# HOOMD-blue example scripts\n",
    "\n",
    "Welcome to the HOOMD-blue example scripts. These jupyter notebooks demonstrate how to utilize the\n",
    "functionality of [HOOMD-blue](http://glotzerlab.engin.umich.edu/hoomd-blue/), from the most basic\n",
    "level to advanced topics. You can view a [static version of the notebooks online](http://nbviewer.jupyter.org/github/joaander/hoomd-examples/blob/master/index.ipynb). For an intereactive exploration, you can\n",
    "[launch a dynamic version online](http://mybinder.org:/repo/joaander/hoomd-examples) (CPU-only),\n",
    "or download the examples and run them on your own system.\n",
    "```\n",
    "git clone https://bitbucket.org/glotzer/hoomd-examples.git\n",
    "cd hoomd-examples\n",
    "jupyter notebook\n",
    "```\n",
    "See [Notebook Basics](http://nbviewer.jupyter.org/github/jupyter/notebook/blob/master/docs/source/examples/Notebook/Notebook%20Basics.ipynb) and [Running Code](http://nbviewer.jupyter.org/github/jupyter/notebook/blob/master/docs/source/examples/Notebook/Running%20Code.ipynb) for tutorials on using jupyter itself.\n",
    "\n",
    "**These examples are a work in progress, many entries in this index are placeholders for planned examples.**\n",
    "\n",
    "## Basic tutorials\n",
    "\n",
    "1. [Installing HOOMD](basic/01 - Installing%20HOOMD.ipynb)\n",
    "2. [Quick Start Tutorial](basic/02 - Quick%20Start%20Tutorial.ipynb)\n",
    "3. [Simulation Contexts](basic/03 - Simulation%20Contexts.ipynb)\n",
    "4. [Importing hoomd](basic/04 - Importing%20hoomd.ipynb)\n",
    "5. [Create Lattice](basic/05 - Create%20Lattice.ipynb)\n",
    "6. [Advancing simulations](basic/06 - Advancing%20simulations.ipynb)\n",
    "7. [Log output](basic/07 - Log%20output.ipynb)\n",
    "8. [Saving simulation configurations in GSD files](basic/08 - Saving simulation configurations in GSD files.ipynb)\n",
    "9. Running from the command line\n",
    "\n",
    "## Advanced topics\n",
    "\n",
    "1. [Setting initial conditions in python](advanced/01 - Setting%20initial%20conditions%20in%20python.ipynb)\n",
    "2. take_snapshot\n",
    "3. Initialize from file\n",
    "4. Periodic boundary conditions\n",
    "5. Particle properties\n",
    "6. [Restartable Jobs](advanced/06 - Restartable Jobs.ipynb)\n",
    "7. box resize\n",
    "8. cite.save\n",
    "9. metadata\n",
    "10. user options\n",
    "11. notice level\n",
    "12. Callback analyzer\n",
    "13. Benchmarking (benchmark.series, profile=True)\n",
    "14. Adding and removing particles\n",
    "\n",
    "## Hard particle Monte Carlo\n",
    "- TODO: write outline of examples\n",
    "- analyze.log (additional quantities)\n",
    "\n",
    "## Molecular dynamics\n",
    "\n",
    "- compute.thermo\n",
    "- groups\n",
    "- TODO: write outline of examples\n",
    "- analyze.log (additional quantities)\n",
    "\n",
    "\n",
    "## MPI parallel simulations\n",
    "\n",
    "- comm.get_rank\n",
    "- partitions\n",
    "- load balancing"
   ]
  },
  {
   "cell_type": "code",
   "execution_count": null,
   "metadata": {
    "collapsed": true
   },
   "outputs": [],
   "source": []
  }
 ],
 "metadata": {
  "anaconda-cloud": {},
  "kernelspec": {
   "display_name": "Python [default]",
   "language": "python",
   "name": "python3"
  },
  "language_info": {
   "codemirror_mode": {
    "name": "ipython",
    "version": 3
   },
   "file_extension": ".py",
   "mimetype": "text/x-python",
   "name": "python",
   "nbconvert_exporter": "python",
   "pygments_lexer": "ipython3",
   "version": "3.5.2"
  }
 },
 "nbformat": 4,
 "nbformat_minor": 0
}
